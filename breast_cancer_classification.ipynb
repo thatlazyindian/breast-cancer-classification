{
 "cells": [
  {
   "cell_type": "markdown",
   "metadata": {},
   "source": [
    "## Classification Models for Breast Cancer dataset"
   ]
  },
  {
   "cell_type": "markdown",
   "metadata": {},
   "source": [
    "This problem could have been modelled with multiple different ways. For simplicity, I have not performed any feature selection and used all 30 independent variables to train 3 models - Decision Tree, Logistic Regression and k-Nearest Neighbor."
   ]
  },
  {
   "cell_type": "markdown",
   "metadata": {},
   "source": [
    "### Loading packages and data"
   ]
  },
  {
   "cell_type": "code",
   "execution_count": 2,
   "metadata": {},
   "outputs": [],
   "source": [
    "import pandas as pd\n",
    "import numpy as np\n",
    "import seaborn as sns\n",
    "import matplotlib.pyplot as plt\n",
    "%matplotlib inline\n",
    "from sklearn.model_selection import train_test_split\n",
    "from sklearn import model_selection\n",
    "from sklearn.model_selection import GridSearchCV, cross_val_score\n",
    "from sklearn.tree import DecisionTreeClassifier\n",
    "from sklearn.linear_model import LogisticRegression\n",
    "from sklearn.neighbors import KNeighborsClassifier\n",
    "from sklearn.metrics import accuracy_score, confusion_matrix, precision_score, recall_score, roc_auc_score, cohen_kappa_score, f1_score, roc_curve, precision_recall_curve\n",
    "from sklearn.preprocessing import StandardScaler\n",
    "\n",
    "from warnings import simplefilter\n",
    "simplefilter(action='ignore', category=FutureWarning)"
   ]
  },
  {
   "cell_type": "code",
   "execution_count": 3,
   "metadata": {},
   "outputs": [],
   "source": [
    "col_names = ['id', 'diagnosis', 'radius_mean','texture_mean','perimeter_mean','area_mean','smoothness_mean', 'compactness_mean','concavity_mean','concave_points_mean','symmetry_mean','fractal_dimension_mean',\n",
    "             'radius_se','texture_se','perimeter_se','area_se','smoothness_se','compactness_se','concavity_se',\n",
    "             'concave_points_se','symmetry_se','fractal_dimension_se','radius_worst','texture_worst',\n",
    "             'perimeter_worst', 'area_worst','smoothness_worst','compactness_worst','concavity_worst',\n",
    "             'concave_points_worst','symmetry_worst','fractal_dimension_worst']\n",
    "\n",
    "data = pd.read_csv('wdbc.data', sep=',', header=None, names=col_names)"
   ]
  },
  {
   "cell_type": "markdown",
   "metadata": {},
   "source": [
    "### Data summary"
   ]
  },
  {
   "cell_type": "code",
   "execution_count": 4,
   "metadata": {},
   "outputs": [
    {
     "name": "stdout",
     "output_type": "stream",
     "text": [
      "The dimensions of the data set are 569 by 32\n"
     ]
    }
   ],
   "source": [
    "n_samples, n_features = data.shape\n",
    "print ('The dimensions of the data set are', n_samples, 'by', n_features)"
   ]
  },
  {
   "cell_type": "code",
   "execution_count": 5,
   "metadata": {},
   "outputs": [
    {
     "data": {
      "text/html": [
       "<div>\n",
       "<style scoped>\n",
       "    .dataframe tbody tr th:only-of-type {\n",
       "        vertical-align: middle;\n",
       "    }\n",
       "\n",
       "    .dataframe tbody tr th {\n",
       "        vertical-align: top;\n",
       "    }\n",
       "\n",
       "    .dataframe thead th {\n",
       "        text-align: right;\n",
       "    }\n",
       "</style>\n",
       "<table border=\"1\" class=\"dataframe\">\n",
       "  <thead>\n",
       "    <tr style=\"text-align: right;\">\n",
       "      <th></th>\n",
       "      <th>id</th>\n",
       "      <th>diagnosis</th>\n",
       "      <th>radius_mean</th>\n",
       "      <th>texture_mean</th>\n",
       "      <th>perimeter_mean</th>\n",
       "      <th>area_mean</th>\n",
       "      <th>smoothness_mean</th>\n",
       "      <th>compactness_mean</th>\n",
       "      <th>concavity_mean</th>\n",
       "      <th>concave_points_mean</th>\n",
       "      <th>...</th>\n",
       "      <th>radius_worst</th>\n",
       "      <th>texture_worst</th>\n",
       "      <th>perimeter_worst</th>\n",
       "      <th>area_worst</th>\n",
       "      <th>smoothness_worst</th>\n",
       "      <th>compactness_worst</th>\n",
       "      <th>concavity_worst</th>\n",
       "      <th>concave_points_worst</th>\n",
       "      <th>symmetry_worst</th>\n",
       "      <th>fractal_dimension_worst</th>\n",
       "    </tr>\n",
       "  </thead>\n",
       "  <tbody>\n",
       "    <tr>\n",
       "      <th>0</th>\n",
       "      <td>842302</td>\n",
       "      <td>M</td>\n",
       "      <td>17.99</td>\n",
       "      <td>10.38</td>\n",
       "      <td>122.80</td>\n",
       "      <td>1001.0</td>\n",
       "      <td>0.11840</td>\n",
       "      <td>0.27760</td>\n",
       "      <td>0.3001</td>\n",
       "      <td>0.14710</td>\n",
       "      <td>...</td>\n",
       "      <td>25.38</td>\n",
       "      <td>17.33</td>\n",
       "      <td>184.60</td>\n",
       "      <td>2019.0</td>\n",
       "      <td>0.1622</td>\n",
       "      <td>0.6656</td>\n",
       "      <td>0.7119</td>\n",
       "      <td>0.2654</td>\n",
       "      <td>0.4601</td>\n",
       "      <td>0.11890</td>\n",
       "    </tr>\n",
       "    <tr>\n",
       "      <th>1</th>\n",
       "      <td>842517</td>\n",
       "      <td>M</td>\n",
       "      <td>20.57</td>\n",
       "      <td>17.77</td>\n",
       "      <td>132.90</td>\n",
       "      <td>1326.0</td>\n",
       "      <td>0.08474</td>\n",
       "      <td>0.07864</td>\n",
       "      <td>0.0869</td>\n",
       "      <td>0.07017</td>\n",
       "      <td>...</td>\n",
       "      <td>24.99</td>\n",
       "      <td>23.41</td>\n",
       "      <td>158.80</td>\n",
       "      <td>1956.0</td>\n",
       "      <td>0.1238</td>\n",
       "      <td>0.1866</td>\n",
       "      <td>0.2416</td>\n",
       "      <td>0.1860</td>\n",
       "      <td>0.2750</td>\n",
       "      <td>0.08902</td>\n",
       "    </tr>\n",
       "    <tr>\n",
       "      <th>2</th>\n",
       "      <td>84300903</td>\n",
       "      <td>M</td>\n",
       "      <td>19.69</td>\n",
       "      <td>21.25</td>\n",
       "      <td>130.00</td>\n",
       "      <td>1203.0</td>\n",
       "      <td>0.10960</td>\n",
       "      <td>0.15990</td>\n",
       "      <td>0.1974</td>\n",
       "      <td>0.12790</td>\n",
       "      <td>...</td>\n",
       "      <td>23.57</td>\n",
       "      <td>25.53</td>\n",
       "      <td>152.50</td>\n",
       "      <td>1709.0</td>\n",
       "      <td>0.1444</td>\n",
       "      <td>0.4245</td>\n",
       "      <td>0.4504</td>\n",
       "      <td>0.2430</td>\n",
       "      <td>0.3613</td>\n",
       "      <td>0.08758</td>\n",
       "    </tr>\n",
       "    <tr>\n",
       "      <th>3</th>\n",
       "      <td>84348301</td>\n",
       "      <td>M</td>\n",
       "      <td>11.42</td>\n",
       "      <td>20.38</td>\n",
       "      <td>77.58</td>\n",
       "      <td>386.1</td>\n",
       "      <td>0.14250</td>\n",
       "      <td>0.28390</td>\n",
       "      <td>0.2414</td>\n",
       "      <td>0.10520</td>\n",
       "      <td>...</td>\n",
       "      <td>14.91</td>\n",
       "      <td>26.50</td>\n",
       "      <td>98.87</td>\n",
       "      <td>567.7</td>\n",
       "      <td>0.2098</td>\n",
       "      <td>0.8663</td>\n",
       "      <td>0.6869</td>\n",
       "      <td>0.2575</td>\n",
       "      <td>0.6638</td>\n",
       "      <td>0.17300</td>\n",
       "    </tr>\n",
       "    <tr>\n",
       "      <th>4</th>\n",
       "      <td>84358402</td>\n",
       "      <td>M</td>\n",
       "      <td>20.29</td>\n",
       "      <td>14.34</td>\n",
       "      <td>135.10</td>\n",
       "      <td>1297.0</td>\n",
       "      <td>0.10030</td>\n",
       "      <td>0.13280</td>\n",
       "      <td>0.1980</td>\n",
       "      <td>0.10430</td>\n",
       "      <td>...</td>\n",
       "      <td>22.54</td>\n",
       "      <td>16.67</td>\n",
       "      <td>152.20</td>\n",
       "      <td>1575.0</td>\n",
       "      <td>0.1374</td>\n",
       "      <td>0.2050</td>\n",
       "      <td>0.4000</td>\n",
       "      <td>0.1625</td>\n",
       "      <td>0.2364</td>\n",
       "      <td>0.07678</td>\n",
       "    </tr>\n",
       "  </tbody>\n",
       "</table>\n",
       "<p>5 rows × 32 columns</p>\n",
       "</div>"
      ],
      "text/plain": [
       "         id diagnosis  radius_mean  texture_mean  perimeter_mean  area_mean  \\\n",
       "0    842302         M        17.99         10.38          122.80     1001.0   \n",
       "1    842517         M        20.57         17.77          132.90     1326.0   \n",
       "2  84300903         M        19.69         21.25          130.00     1203.0   \n",
       "3  84348301         M        11.42         20.38           77.58      386.1   \n",
       "4  84358402         M        20.29         14.34          135.10     1297.0   \n",
       "\n",
       "   smoothness_mean  compactness_mean  concavity_mean  concave_points_mean  \\\n",
       "0          0.11840           0.27760          0.3001              0.14710   \n",
       "1          0.08474           0.07864          0.0869              0.07017   \n",
       "2          0.10960           0.15990          0.1974              0.12790   \n",
       "3          0.14250           0.28390          0.2414              0.10520   \n",
       "4          0.10030           0.13280          0.1980              0.10430   \n",
       "\n",
       "   ...  radius_worst  texture_worst  perimeter_worst  area_worst  \\\n",
       "0  ...         25.38          17.33           184.60      2019.0   \n",
       "1  ...         24.99          23.41           158.80      1956.0   \n",
       "2  ...         23.57          25.53           152.50      1709.0   \n",
       "3  ...         14.91          26.50            98.87       567.7   \n",
       "4  ...         22.54          16.67           152.20      1575.0   \n",
       "\n",
       "   smoothness_worst  compactness_worst  concavity_worst  concave_points_worst  \\\n",
       "0            0.1622             0.6656           0.7119                0.2654   \n",
       "1            0.1238             0.1866           0.2416                0.1860   \n",
       "2            0.1444             0.4245           0.4504                0.2430   \n",
       "3            0.2098             0.8663           0.6869                0.2575   \n",
       "4            0.1374             0.2050           0.4000                0.1625   \n",
       "\n",
       "   symmetry_worst  fractal_dimension_worst  \n",
       "0          0.4601                  0.11890  \n",
       "1          0.2750                  0.08902  \n",
       "2          0.3613                  0.08758  \n",
       "3          0.6638                  0.17300  \n",
       "4          0.2364                  0.07678  \n",
       "\n",
       "[5 rows x 32 columns]"
      ]
     },
     "execution_count": 5,
     "metadata": {},
     "output_type": "execute_result"
    }
   ],
   "source": [
    "data.head()"
   ]
  },
  {
   "cell_type": "markdown",
   "metadata": {},
   "source": [
    "### Data Preprocessing and Normalization"
   ]
  },
  {
   "cell_type": "markdown",
   "metadata": {},
   "source": [
    "Although normalization is not important for classification techniques like Decision Tree, we would need to normalize our data for k-NN and Logistic Regression."
   ]
  },
  {
   "cell_type": "code",
   "execution_count": 6,
   "metadata": {},
   "outputs": [],
   "source": [
    "# Setting Malign as 1 and benign as 0\n",
    "data['diagnosis'] = pd.Series(np.where(data['diagnosis'] == 'M', 1, 0))\n",
    "\n",
    "# Splitting data into dependent and independent variables\n",
    "data_X = data.iloc[:, 2:]\n",
    "data_y = data.iloc[:, 1]\n",
    "\n",
    "# Splitting data into training and test sets\n",
    "X_train, X_test, y_train, y_test = train_test_split(data_X, data_y, test_size = 0.3, random_state = 52, stratify = data_y)\n",
    "\n",
    "# Normalizing data using standardization process\n",
    "scaler = StandardScaler()\n",
    "scaler.fit(X_train)\n",
    "X_train = scaler.transform(X_train)\n",
    "X_test = scaler.transform(X_test)"
   ]
  },
  {
   "cell_type": "markdown",
   "metadata": {},
   "source": [
    "### Model 1: Decision-Tree Classifier\n",
    "I chose Information Gain as the only criteria for training my decision trees and did not model for Gini Index. Although, we can do that as well but it would just increase the complexity of the analysis.\n",
    "\n",
    "The final parameters for the following model were given after performing parameter tuning. (Described later)"
   ]
  },
  {
   "cell_type": "code",
   "execution_count": 7,
   "metadata": {},
   "outputs": [
    {
     "data": {
      "image/png": "[encoded data removed]",
      "text/plain": [
       "<Figure size 432x288 with 1 Axes>"
      ]
     },
     "metadata": {
      "needs_background": "light"
     },
     "output_type": "display_data"
    }
   ],
   "source": [
    "clf_tree = DecisionTreeClassifier(criterion = \"entropy\", random_state = 100, max_depth=3, min_samples_leaf=17)\n",
    "clf_tree.fit(X_train, y_train)\n",
    "y_pred_tree = clf_tree.predict(X_test)\n",
    "\n",
    "# Performance Measures - \n",
    "\n",
    "# I have calculated all the scores here and have printed them at the end of the analysis as a comparison.\n",
    "\n",
    "accuracy_dt = accuracy_score(y_test, y_pred_tree) # accuracy\n",
    "\n",
    "precision_dt = precision_score(y_test, y_pred_tree, average=\"macro\") # precision\n",
    "\n",
    "recall_dt = recall_score(y_test, y_pred_tree, average=\"macro\") # recall\n",
    "\n",
    "f1_dt = f1_score(y_test, y_pred_tree, average=\"macro\") # f1\n",
    "\n",
    "kappa_dt = cohen_kappa_score(y_test, y_pred_tree) # kappa\n",
    "\n",
    "# Confusion Matrix\n",
    "matrix = confusion_matrix(y_test, y_pred_tree)\n",
    "\n",
    "ax= plt.subplot()\n",
    "sns.heatmap(matrix, annot=True, ax = ax, fmt = 'g', cbar = False); #annot=True to annotate cells\n",
    "ax.set_xlabel('Predicted labels');ax.set_ylabel('Actual labels'); \n",
    "ax.set_title('Confusion Matrix for Decision Tree'); \n",
    "ax.xaxis.set_ticklabels(['Malign', 'Benign']); ax.yaxis.set_ticklabels(['Malign', 'Benign']);"
   ]
  },
  {
   "cell_type": "markdown",
   "metadata": {},
   "source": [
    "The above confusion matrix shows good results, as almost all of the classification are in the major diagonal. This means that Type 1 and Type 2 errors are low."
   ]
  },
  {
   "cell_type": "code",
   "execution_count": 8,
   "metadata": {},
   "outputs": [
    {
     "data": {
      "image/png": "[encoded data removed]",
      "text/plain": [
       "<Figure size 432x288 with 1 Axes>"
      ]
     },
     "metadata": {
      "needs_background": "light"
     },
     "output_type": "display_data"
    },
    {
     "name": "stdout",
     "output_type": "stream",
     "text": [
      "AUC: 0.985\n"
     ]
    }
   ],
   "source": [
    "# ROC Curve\n",
    "\n",
    "probs = clf_tree.predict_proba(X_test) # predicting probabilities\n",
    "probs = probs[:, 1] # keeping probabilities for the positive outcome only\n",
    "auc = roc_auc_score(y_test, probs) # calculating AUC\n",
    "fpr, tpr, thresholds = roc_curve(y_test, probs) # calculating roc curve\n",
    "plt.plot([0, 1], [0, 1], linestyle='--') # plotting no skill (base model)\n",
    "plt.plot(fpr, tpr, marker='.') # plotting the roc curve for the model\n",
    "plt.xlabel('FPR'); plt.ylabel('TPR'); plt.title('ROC Curve for Decicion Tree');\n",
    "plt.show()\n",
    "print('AUC: %.3f' % auc)"
   ]
  },
  {
   "cell_type": "markdown",
   "metadata": {},
   "source": [
    "AUC of 98.5 % is really high. Below we will look at precision-recall curve to support these high accuracy numbers and further cross-validate our model with 10 sets."
   ]
  },
  {
   "cell_type": "code",
   "execution_count": 9,
   "metadata": {},
   "outputs": [
    {
     "data": {
      "image/png": "[encoded data removed]",
      "text/plain": [
       "<Figure size 432x288 with 1 Axes>"
      ]
     },
     "metadata": {
      "needs_background": "light"
     },
     "output_type": "display_data"
    }
   ],
   "source": [
    "# Precision-Recall Curve\n",
    "\n",
    "precision, recall, thresholds = precision_recall_curve(y_test, probs) # calculating precision-recall curve\n",
    "plt.plot(recall, precision, marker='.') # plotting the precision-recall curve for the model\n",
    "plt.xlabel('Recall'); plt.ylabel('Precision'); plt.title('Precision-Recall Curve for Decicion Tree');\n",
    "plt.show()"
   ]
  },
  {
   "cell_type": "markdown",
   "metadata": {},
   "source": [
    "#### Evaluating performance by cross-validation"
   ]
  },
  {
   "cell_type": "code",
   "execution_count": 10,
   "metadata": {},
   "outputs": [
    {
     "name": "stdout",
     "output_type": "stream",
     "text": [
      "[0.925      0.85       0.975      0.9        0.875      0.95\n",
      " 0.975      0.925      0.92307692 0.92307692]\n",
      "Accuracy: 0.92 (+/- 0.08)\n"
     ]
    }
   ],
   "source": [
    "scores_tree = cross_val_score(clf_tree, X_train, y_train, cv=10)\n",
    "print(scores_tree)\n",
    "\n",
    "# The mean score and the 95% confidence interval of the score estimate are hence given by:\n",
    "print(\"Accuracy: %0.2f (+/- %0.2f)\" % (scores_tree.mean(), scores_tree.std() * 2))"
   ]
  },
  {
   "cell_type": "markdown",
   "metadata": {},
   "source": [
    "#### Optimizing decision tree and detecting (potential) over-fitting"
   ]
  },
  {
   "cell_type": "code",
   "execution_count": 11,
   "metadata": {},
   "outputs": [
    {
     "data": {
      "image/png": "[encoded data removed]",
      "text/plain": [
       "<Figure size 432x288 with 1 Axes>"
      ]
     },
     "metadata": {
      "needs_background": "light"
     },
     "output_type": "display_data"
    }
   ],
   "source": [
    "# Optimizing for min_samples_leaf\n",
    "\n",
    "complexity_values = range(5,25)\n",
    "\n",
    "train_accuracies = []\n",
    "test_accuracies=[]\n",
    "\n",
    "for complexity_value in complexity_values:\n",
    "    clf = DecisionTreeClassifier(criterion=\"entropy\", min_samples_leaf=complexity_value)\n",
    "    test_accuracies.append(clf.fit(X_train, y_train).score(X_test, y_test))\n",
    "    train_accuracies.append(clf.fit(X_train, y_train).score(X_train, y_train))\n",
    "    \n",
    "# Plotting results\n",
    "line1, =plt.plot(complexity_values, test_accuracies,label='test_accuracies')\n",
    "line2, =plt.plot(complexity_values, train_accuracies,label='train_accuracies')\n",
    "plt.xlabel(\"min_samples_leaf\")\n",
    "plt.ylabel(\"Accuracy\")\n",
    "plt.legend((line1, line2), ('test', 'train'))\n",
    "plt.show()"
   ]
  },
  {
   "cell_type": "markdown",
   "metadata": {},
   "source": [
    "The above graoh shows us that the best min_sample_leaf would be around 17."
   ]
  },
  {
   "cell_type": "code",
   "execution_count": 12,
   "metadata": {},
   "outputs": [
    {
     "data": {
      "image/png": "[encoded data removed]",
      "text/plain": [
       "<Figure size 432x288 with 1 Axes>"
      ]
     },
     "metadata": {
      "needs_background": "light"
     },
     "output_type": "display_data"
    }
   ],
   "source": [
    "# Optimizing for max_depth\n",
    "\n",
    "complexity_values = range(1,20)\n",
    "\n",
    "train_accuracies = []\n",
    "test_accuracies=[]\n",
    "\n",
    "for complexity_value in complexity_values:\n",
    "    clf = DecisionTreeClassifier(criterion=\"entropy\", max_depth=complexity_value)\n",
    "    test_accuracies.append(clf.fit(X_train, y_train).score(X_test, y_test))\n",
    "    train_accuracies.append(clf.fit(X_train, y_train).score(X_train, y_train))\n",
    "    \n",
    "# Plotting results\n",
    "line1, =plt.plot(complexity_values, test_accuracies,label='test_accuracies')\n",
    "line2, =plt.plot(complexity_values, train_accuracies,label='train_accuracies')\n",
    "plt.xlabel(\"max_depth\")\n",
    "plt.ylabel(\"Accuracy\")\n",
    "plt.legend((line1, line2), ('test', 'train'))\n",
    "plt.show()"
   ]
  },
  {
   "cell_type": "markdown",
   "metadata": {},
   "source": [
    "The above graph shows us that best value for max_depth would be around 3. Hence, we used this value in our final model."
   ]
  },
  {
   "cell_type": "markdown",
   "metadata": {},
   "source": [
    "### Model 2: Logistic Classifier"
   ]
  },
  {
   "cell_type": "code",
   "execution_count": 13,
   "metadata": {},
   "outputs": [
    {
     "data": {
      "image/png": "[encoded data removed]",
      "text/plain": [
       "<Figure size 432x288 with 1 Axes>"
      ]
     },
     "metadata": {
      "needs_background": "light"
     },
     "output_type": "display_data"
    }
   ],
   "source": [
    "clf_log = LogisticRegression()\n",
    "clf_log.fit(X_train, y_train)\n",
    "y_pred_log = clf_log.predict(X_test)\n",
    "\n",
    "# Performance Measures - \n",
    "\n",
    "# I have calculated all the scores here and have printed them at the end of the analysis as a comparison.\n",
    "\n",
    "accuracy_log = accuracy_score(y_test, y_pred_log) # accuracy\n",
    "\n",
    "precision_log = precision_score(y_test, y_pred_log, average=\"macro\") # precision\n",
    "\n",
    "recall_log = recall_score(y_test, y_pred_log, average=\"macro\") # recall\n",
    "\n",
    "f1_log = f1_score(y_test, y_pred_log, average=\"macro\") # f1\n",
    "\n",
    "kappa_log = cohen_kappa_score(y_test, y_pred_log) # kappa\n",
    "\n",
    "# Confusion Matrix\n",
    "matrix = confusion_matrix(y_test, y_pred_log)\n",
    "\n",
    "ax= plt.subplot()\n",
    "sns.heatmap(matrix, annot=True, ax = ax, fmt = 'g', cbar = False); #annot=True to annotate cells\n",
    "ax.set_xlabel('Predicted labels');ax.set_ylabel('True labels'); \n",
    "ax.set_title('Confusion Matrix for Logistic Classifier'); \n",
    "ax.xaxis.set_ticklabels(['Malign', 'Benign']); ax.yaxis.set_ticklabels(['Malign', 'Benign']);"
   ]
  },
  {
   "cell_type": "markdown",
   "metadata": {},
   "source": [
    "Logistic model shows better results than Decision Tree model in this confusion matrix. We will further evaluate these results with ROC curve, Precision-recall curve and and cross-validation."
   ]
  },
  {
   "cell_type": "code",
   "execution_count": 14,
   "metadata": {},
   "outputs": [
    {
     "data": {
      "image/png": "[encoded data removed]",
      "text/plain": [
       "<Figure size 432x288 with 1 Axes>"
      ]
     },
     "metadata": {
      "needs_background": "light"
     },
     "output_type": "display_data"
    },
    {
     "name": "stdout",
     "output_type": "stream",
     "text": [
      "AUC: 0.996\n"
     ]
    }
   ],
   "source": [
    "# ROC Curve\n",
    "\n",
    "probs = clf_log.predict_proba(X_test) # predict probabilities\n",
    "probs = probs[:, 1] # keep probabilities for the positive outcome only\n",
    "auc = roc_auc_score(y_test, probs) # calculating AUC\n",
    "fpr, tpr, thresholds = roc_curve(y_test, probs) # calculating roc curve\n",
    "plt.plot([0, 1], [0, 1], linestyle='--') # plotting no skill (base model)\n",
    "plt.plot(fpr, tpr, marker='.') # plot the roc curve for the model\n",
    "plt.xlabel('FPR'); plt.ylabel('TPR'); plt.title('ROC Curve for Logistic Classifier');\n",
    "plt.show()\n",
    "print('AUC: %.3f' % auc)"
   ]
  },
  {
   "cell_type": "markdown",
   "metadata": {},
   "source": [
    "AUC of 99.6% is in line with our confusion matrix results."
   ]
  },
  {
   "cell_type": "code",
   "execution_count": 15,
   "metadata": {},
   "outputs": [
    {
     "data": {
      "image/png": "[encoded data removed]",
      "text/plain": [
       "<Figure size 432x288 with 1 Axes>"
      ]
     },
     "metadata": {
      "needs_background": "light"
     },
     "output_type": "display_data"
    }
   ],
   "source": [
    "# Precision-Recall Curve\n",
    "precision, recall, thresholds = precision_recall_curve(y_test, probs) # calculating precision-recall curve\n",
    "plt.plot(recall, precision, marker='.') # plotting the precision-recall curve for the model\n",
    "plt.xlabel('Recall'); plt.ylabel('Precision'); plt.title('Precision-Recall Curve for Logistic Classifier');\n",
    "plt.show()"
   ]
  },
  {
   "cell_type": "markdown",
   "metadata": {},
   "source": [
    "Precision-Recall curve also backs the high accuracy rates of our Logitic model. We will finally check these numbers with a cross-validated result."
   ]
  },
  {
   "cell_type": "markdown",
   "metadata": {},
   "source": [
    "#### Evaluating performance by cross-validation"
   ]
  },
  {
   "cell_type": "code",
   "execution_count": 16,
   "metadata": {},
   "outputs": [
    {
     "name": "stdout",
     "output_type": "stream",
     "text": [
      "[0.975      0.925      1.         0.975      1.         1.\n",
      " 0.975      0.925      0.97435897 1.        ]\n",
      "Accuracy: 0.97 (+/- 0.08)\n"
     ]
    }
   ],
   "source": [
    "scores_log = cross_val_score(clf_log, X_train, y_train, cv=10)\n",
    "print(scores_log)\n",
    "\n",
    "# The mean score and the 95% confidence interval of the score estimate are hence given by:\n",
    "print(\"Accuracy: %0.2f (+/- %0.2f)\" % (scores_log.mean(), scores_tree.std() * 2))"
   ]
  },
  {
   "cell_type": "markdown",
   "metadata": {},
   "source": [
    "Cross-validation results show us that the mean accuracy stays around 97%. Hence, we can state that our model accuarcy of 99% does not mean that it is an over-fitted model."
   ]
  },
  {
   "cell_type": "markdown",
   "metadata": {},
   "source": [
    "### Model 3: K-Nearest Neighbors Classifier"
   ]
  },
  {
   "cell_type": "code",
   "execution_count": 17,
   "metadata": {},
   "outputs": [
    {
     "data": {
      "image/png": "[encoded data removed]",
      "text/plain": [
       "<Figure size 432x288 with 1 Axes>"
      ]
     },
     "metadata": {
      "needs_background": "light"
     },
     "output_type": "display_data"
    }
   ],
   "source": [
    "clf_knn = KNeighborsClassifier(n_neighbors=3)\n",
    "clf_knn.fit(X_train, y_train)\n",
    "y_pred_knn = clf_knn.predict(X_test)\n",
    "\n",
    "# Performance Measures - \n",
    "\n",
    "# I have calculated all the scores here and have printed them at the end of the analysis as a comparison.\n",
    "\n",
    "accuracy_knn = accuracy_score(y_test, y_pred_knn) # accuracy\n",
    "\n",
    "precision_knn = precision_score(y_test, y_pred_knn, average=\"macro\") # precision\n",
    "\n",
    "recall_knn = recall_score(y_test, y_pred_knn, average=\"macro\") # recall\n",
    "\n",
    "f1_knn = f1_score(y_test, y_pred_knn, average=\"macro\") # f1:\n",
    "\n",
    "kappa_knn = cohen_kappa_score(y_test, y_pred_knn) # kappa:\n",
    "\n",
    "# confusion matrix\n",
    "matrix = confusion_matrix(y_test, y_pred_knn)\n",
    "\n",
    "ax= plt.subplot()\n",
    "sns.heatmap(matrix, annot=True, ax = ax, fmt = 'g', cbar = False); #annot=True to annotate cells\n",
    "ax.set_xlabel('Predicted labels');ax.set_ylabel('True labels'); \n",
    "ax.set_title('Confusion Matrix for k-NN'); \n",
    "ax.xaxis.set_ticklabels(['Malign', 'Benign']); ax.yaxis.set_ticklabels(['Malign', 'Benign']);"
   ]
  },
  {
   "cell_type": "markdown",
   "metadata": {},
   "source": [
    "This model also shows high accuracy but not as high as logistic model."
   ]
  },
  {
   "cell_type": "code",
   "execution_count": 18,
   "metadata": {},
   "outputs": [
    {
     "data": {
      "image/png": "[encoded data removed]",
      "text/plain": [
       "<Figure size 432x288 with 1 Axes>"
      ]
     },
     "metadata": {
      "needs_background": "light"
     },
     "output_type": "display_data"
    },
    {
     "name": "stdout",
     "output_type": "stream",
     "text": [
      "AUC: 0.990\n"
     ]
    }
   ],
   "source": [
    "# ROC Curve\n",
    "\n",
    "probs = clf_knn.predict_proba(X_test) # predicting probabilities\n",
    "probs = probs[:, 1] # keeping probabilities for the positive outcome only\n",
    "auc = roc_auc_score(y_test, probs) # calculating AUC\n",
    "fpr, tpr, thresholds = roc_curve(y_test, probs) # calculating roc curve\n",
    "plt.plot([0, 1], [0, 1], linestyle='--') # plotting no skill (base model)\n",
    "plt.plot(fpr, tpr, marker='.') # plotting the roc curve for the model\n",
    "plt.xlabel('FPR'); plt.ylabel('TPR'); plt.title('ROC Curve for k_NN');\n",
    "plt.show()\n",
    "print('AUC: %.3f' % auc)"
   ]
  },
  {
   "cell_type": "code",
   "execution_count": 19,
   "metadata": {},
   "outputs": [
    {
     "data": {
      "image/png": "[encoded data removed]",
      "text/plain": [
       "<Figure size 432x288 with 1 Axes>"
      ]
     },
     "metadata": {
      "needs_background": "light"
     },
     "output_type": "display_data"
    }
   ],
   "source": [
    "# Precision-Recall Curve\n",
    "precision, recall, thresholds = precision_recall_curve(y_test, probs) # calculating precision-recall curve\n",
    "plt.plot(recall, precision, marker='.') # plotting the precision-recall curve for the model\n",
    "plt.xlabel('Recall'); plt.ylabel('Precision'); plt.title('Precision-Recall Curve for k-NN');\n",
    "plt.show()"
   ]
  },
  {
   "cell_type": "markdown",
   "metadata": {},
   "source": [
    "#### Evaluating performance by cross-validation"
   ]
  },
  {
   "cell_type": "code",
   "execution_count": 20,
   "metadata": {},
   "outputs": [
    {
     "name": "stdout",
     "output_type": "stream",
     "text": [
      "[0.95       0.925      1.         0.925      0.925      0.975\n",
      " 0.975      0.975      0.92307692 1.        ]\n",
      "Accuracy: 0.96 (+/- 0.06)\n"
     ]
    }
   ],
   "source": [
    "scores_knn = cross_val_score(clf_knn, X_train, y_train, cv=10)\n",
    "print(scores_knn)\n",
    "\n",
    "# The mean score and the 95% confidence interval of the score estimate are hence given by:\n",
    "print(\"Accuracy: %0.2f (+/- %0.2f)\" % (scores_knn.mean(), scores_knn.std() * 2))"
   ]
  },
  {
   "cell_type": "markdown",
   "metadata": {},
   "source": [
    "#### Optimizing K-NN and detecting (potential) over-fitting"
   ]
  },
  {
   "cell_type": "code",
   "execution_count": 21,
   "metadata": {},
   "outputs": [
    {
     "data": {
      "image/png": "[encoded data removed]",
      "text/plain": [
       "<Figure size 432x288 with 1 Axes>"
      ]
     },
     "metadata": {
      "needs_background": "light"
     },
     "output_type": "display_data"
    }
   ],
   "source": [
    "# Optimizing for n_neighbors\n",
    "\n",
    "complexity_values = range(1,26)\n",
    "\n",
    "train_accuracies = []\n",
    "test_accuracies=[]\n",
    "\n",
    "for complexity_value in complexity_values:\n",
    "    clf = KNeighborsClassifier(n_neighbors=complexity_value)\n",
    "    test_accuracies.append(clf.fit(X_train, y_train).score(X_test, y_test))\n",
    "    train_accuracies.append(clf.fit(X_train, y_train).score(X_train, y_train))\n",
    "    \n",
    "# We want to plot our results\n",
    "line1, =plt.plot(complexity_values, test_accuracies,label='test_accuracies')\n",
    "line2, =plt.plot(complexity_values, train_accuracies,label='train_accuracies')\n",
    "plt.xlabel(\"n_neighbors\"); plt.ylabel(\"Accuracy\")\n",
    "plt.legend((line1, line2), ('test', 'train'))\n",
    "plt.show()"
   ]
  },
  {
   "cell_type": "markdown",
   "metadata": {},
   "source": [
    "## Comparing Three Models - Decision Tree, K-NN, Logistic"
   ]
  },
  {
   "cell_type": "markdown",
   "metadata": {},
   "source": [
    "I found that Logistic Regression performs the best among all the three classiers as it has higher performance measures for all the metrics and very low variability in the results."
   ]
  },
  {
   "cell_type": "markdown",
   "metadata": {},
   "source": [
    "### 1. On the basis of multiple performance measures -"
   ]
  },
  {
   "cell_type": "markdown",
   "metadata": {},
   "source": [
    "From below, we can see that Logistic Regression outperforms k-NN and decision tree on all the 5 metrics i.e. f-score, precision, recall, accuracy and kappa score."
   ]
  },
  {
   "cell_type": "code",
   "execution_count": 22,
   "metadata": {},
   "outputs": [
    {
     "data": {
      "text/html": [
       "<div>\n",
       "<style scoped>\n",
       "    .dataframe tbody tr th:only-of-type {\n",
       "        vertical-align: middle;\n",
       "    }\n",
       "\n",
       "    .dataframe tbody tr th {\n",
       "        vertical-align: top;\n",
       "    }\n",
       "\n",
       "    .dataframe thead th {\n",
       "        text-align: right;\n",
       "    }\n",
       "</style>\n",
       "<table border=\"1\" class=\"dataframe\">\n",
       "  <thead>\n",
       "    <tr style=\"text-align: right;\">\n",
       "      <th></th>\n",
       "      <th>F-Score</th>\n",
       "      <th>Precision</th>\n",
       "      <th>Recall</th>\n",
       "      <th>Accuracy</th>\n",
       "      <th>Kappa Score</th>\n",
       "    </tr>\n",
       "  </thead>\n",
       "  <tbody>\n",
       "    <tr>\n",
       "      <th>Decision Tree</th>\n",
       "      <td>0.924603</td>\n",
       "      <td>0.927567</td>\n",
       "      <td>0.921948</td>\n",
       "      <td>0.929825</td>\n",
       "      <td>0.849229</td>\n",
       "    </tr>\n",
       "    <tr>\n",
       "      <th>Logistic Regression</th>\n",
       "      <td>0.987515</td>\n",
       "      <td>0.987515</td>\n",
       "      <td>0.987515</td>\n",
       "      <td>0.988304</td>\n",
       "      <td>0.975029</td>\n",
       "    </tr>\n",
       "    <tr>\n",
       "      <th>k-Nearest Neighbors</th>\n",
       "      <td>0.981088</td>\n",
       "      <td>0.986364</td>\n",
       "      <td>0.976562</td>\n",
       "      <td>0.982456</td>\n",
       "      <td>0.962188</td>\n",
       "    </tr>\n",
       "  </tbody>\n",
       "</table>\n",
       "</div>"
      ],
      "text/plain": [
       "                      F-Score  Precision    Recall  Accuracy  Kappa Score\n",
       "Decision Tree        0.924603   0.927567  0.921948  0.929825     0.849229\n",
       "Logistic Regression  0.987515   0.987515  0.987515  0.988304     0.975029\n",
       "k-Nearest Neighbors  0.981088   0.986364  0.976562  0.982456     0.962188"
      ]
     },
     "execution_count": 22,
     "metadata": {},
     "output_type": "execute_result"
    }
   ],
   "source": [
    "d = {'F-Score': [f1_dt, f1_log, f1_knn],\n",
    "     'Precision': [precision_dt, precision_log, precision_knn],\n",
    "     'Recall': [recall_dt, recall_log, recall_knn],\n",
    "     'Accuracy': [accuracy_dt, accuracy_log, accuracy_knn],\n",
    "     'Kappa Score': [kappa_dt, kappa_log, kappa_knn]}\n",
    "scores_df = pd.DataFrame(data = d, index = ['Decision Tree', 'Logistic Regression', 'k-Nearest Neighbors'])\n",
    "scores_df"
   ]
  },
  {
   "cell_type": "markdown",
   "metadata": {},
   "source": [
    "### 2. On the basis of k-fold validation -"
   ]
  },
  {
   "cell_type": "markdown",
   "metadata": {},
   "source": [
    "From the below bar-plot of k-fold validated results, we see that Logistic Regression has higher median accuracy and lower variability in the model performance, which makes it the nest among the three. "
   ]
  },
  {
   "cell_type": "code",
   "execution_count": 24,
   "metadata": {},
   "outputs": [
    {
     "name": "stdout",
     "output_type": "stream",
     "text": [
      "LR: 0.949115 (0.021835)\n",
      "KNN: 0.922804 (0.033158)\n",
      "DT: 0.906812 (0.032312)\n"
     ]
    },
    {
     "data": {
      "image/png": "[encoded data removed]",
      "text/plain": [
       "<Figure size 432x288 with 1 Axes>"
      ]
     },
     "metadata": {
      "needs_background": "light"
     },
     "output_type": "display_data"
    }
   ],
   "source": [
    "seed = 7\n",
    "# prepare models\n",
    "models = []\n",
    "models.append(('LR', LogisticRegression()))\n",
    "models.append(('KNN', KNeighborsClassifier()))\n",
    "models.append(('DT', DecisionTreeClassifier()))\n",
    "\n",
    "# evaluate each model in turn\n",
    "results = []\n",
    "names = []\n",
    "scoring = 'accuracy'\n",
    "for name, model in models:\n",
    "\tkfold = model_selection.KFold(n_splits=8, random_state=seed)\n",
    "\tcv_results = model_selection.cross_val_score(model, data_X, data_y, cv=kfold, scoring=scoring)\n",
    "\tresults.append(cv_results)\n",
    "\tnames.append(name)\n",
    "\tmsg = \"%s: %f (%f)\" % (name, cv_results.mean(), cv_results.std())\n",
    "\tprint(msg)\n",
    "\n",
    "results = list(map(list, zip(*results)))\n",
    "results = pd.DataFrame(data = results, columns = ['LR', 'KNN', 'DT'])\n",
    "\n",
    "# # boxplot algorithm comparison\n",
    "ax= plt.subplot()\n",
    "ax = sns.boxplot(data=results)\n",
    "ax.set_title('Comparion of CLassification Models');\n",
    "ax.set_xlabel('Classification Model');ax.set_ylabel('Accuracy');\n"
   ]
  }
 ],
 "metadata": {
  "kernelspec": {
   "display_name": "Python 3",
   "language": "python",
   "name": "python3"
  },
  "language_info": {
   "codemirror_mode": {
    "name": "ipython",
    "version": 3
   },
   "file_extension": ".py",
   "mimetype": "text/x-python",
   "name": "python",
   "nbconvert_exporter": "python",
   "pygments_lexer": "ipython3",
   "version": "3.7.4"
  }
 },
 "nbformat": 4,
 "nbformat_minor": 4
}
